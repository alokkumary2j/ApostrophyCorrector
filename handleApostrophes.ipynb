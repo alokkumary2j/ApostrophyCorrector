{
 "cells": [
  {
   "cell_type": "code",
   "execution_count": 1,
   "metadata": {
    "collapsed": true
   },
   "outputs": [],
   "source": [
    "import nltk "
   ]
  },
  {
   "cell_type": "code",
   "execution_count": 2,
   "metadata": {
    "collapsed": true
   },
   "outputs": [],
   "source": [
    "rawComment=\"\"\"Primary election, in the United States, an election to select candidates to run for public office. \n",
    "Primaries may be closed (partisan), allowing only declared party members to vote, or open (nonpartisan), \n",
    "enabling all voters to choose which partys primary they wish to vote in without declaring any party affiliation. \n",
    "Primaries may be direct or indirect. A direct primary, which is now used in some form in all U.S. states, functions \n",
    "as a preliminary election whereby voters decide their partys candidates. In an indirect primary, voters elect delegates \n",
    "who choose the partys candidates at a nominating convention. The merits of open versus closed primaries have been widely \n",
    "debated. Proponents of open primaries argue that voters should be able to choose which primary they will vote in at each \n",
    "election. Open primaries allow participation by independents unwilling to declare a party affiliation to vote and prevent\n",
    "intimidation of voters who wish to keep their affiliation private. Party organizations prefer closed primaries because \n",
    "they promote party unity and keep those with no allegiance to the party from influencing its choice, as happens in \n",
    "crossover voting, when members of rival parties vote for the weakest candidate in the oppositions primary. Several states \n",
    "have adopted variations, including the mixed primary, which allows independents to vote in either partys primary but \n",
    "requires voters registered with a political party to vote in their own partys primary. Following legal challenges \n",
    "(particularly by the Democratic and Republican parties), some variations were declared unconstitutional in the early \n",
    "21st century. For example, for more than six decades, the state of Washington employed a blanket primary, which enabled \n",
    "voters to select one candidate per office irrespective of party affiliation, with the top vote getter from each party \n",
    "advancing to the general election. In 2003 the 9th Circuit U.S. Court of Appeals ruled that Washingtons primary was \n",
    "unconstitutional, on the grounds that it violated a political partys First Amendment right to freedom of association. \n",
    "Washington subsequently implemented a modified blanket system that was a nonpartisan contest in which voters could \n",
    "select one candidate per office, with the top two vote getters per office irrespective of party affiliation advancing to \n",
    "the general election; in 2008 this “top-two” system was declared constitutional by the U.S. Supreme Court. In 2010 voters \n",
    "in California, which had earlier also been forced to abandon its blanket primary, endorsed a ballot initiative that \n",
    "established a system similar to that in Washington. Although the formal primary system is peculiar to the United States, \n",
    "there are some parallels in other countries. For example, the Australian Labor Party has used a “preselection” ballot, in \n",
    "which candidates in each locality have been selected by party members in that locality from those offering themselves for \n",
    "the preselection vote. Some parties in Israel have also used primaries to select candidates for the Knesset.\n",
    "\"\"\""
   ]
  },
  {
   "cell_type": "code",
   "execution_count": 26,
   "metadata": {
    "collapsed": false,
    "scrolled": true
   },
   "outputs": [
    {
     "name": "stdout",
     "output_type": "stream",
     "text": [
      "[('Primary', 'JJ'), ('election,', 'NN'), ('in', 'IN'), ('the', 'DT'), ('United', 'NNP'), ('States,', 'NNP'), ('an', 'DT'), ('election', 'NN'), ('to', 'TO'), ('select', 'VB'), ('candidates', 'NNS'), ('to', 'TO'), ('run', 'VB'), ('for', 'IN'), ('public', 'JJ'), ('office', 'NN')]\n",
      "[('Primaries', 'NNS'), ('may', 'MD'), ('be', 'VB'), ('closed', 'VBN'), ('(partisan),', 'NN'), ('allowing', 'VBG'), ('only', 'RB'), ('declared', 'VBD'), ('party', 'NN'), ('members', 'NNS'), ('to', 'TO'), ('vote,', 'VB'), ('or', 'CC'), ('open', 'VB'), ('(nonpartisan),', 'JJR'), ('enabling', 'VBG'), ('all', 'DT'), ('voters', 'NNS'), ('to', 'TO'), ('choose', 'VB'), ('which', 'WDT'), ('partys', 'VBP'), ('primary', 'IN'), ('they', 'PRP'), ('wish', 'VBP'), ('to', 'TO'), ('vote', 'VB'), ('in', 'IN'), ('without', 'IN'), ('declaring', 'VBG'), ('any', 'DT'), ('party', 'NN'), ('affiliation', 'NN')]\n",
      "[('Primaries', 'NNS'), ('may', 'MD'), ('be', 'VB'), ('direct', 'JJ'), ('or', 'CC'), ('indirect', 'JJ')]\n",
      "[('A', 'DT'), ('direct', 'JJ'), ('primary,', 'NN'), ('which', 'WDT'), ('is', 'VBZ'), ('now', 'RB'), ('used', 'VBN'), ('in', 'IN'), ('some', 'DT'), ('form', 'NN'), ('in', 'IN'), ('all', 'DT'), ('U', 'NNP')]\n",
      "[('S', 'NN')]\n",
      "[('states,', 'JJ'), ('functions', 'NNS'), ('as', 'IN'), ('a', 'DT'), ('preliminary', 'JJ'), ('election', 'NN'), ('whereby', 'WRB'), ('voters', 'NNS'), ('decide', 'VBP'), ('their', 'PRP$'), ('partys', 'NN'), ('candidates', 'NNS')]\n",
      "[('In', 'IN'), ('an', 'DT'), ('indirect', 'JJ'), ('primary,', 'NN'), ('voters', 'NNS'), ('elect', 'VBP'), ('delegates', 'NNS'), ('who', 'WP'), ('choose', 'VBP'), ('the', 'DT'), ('partys', 'NN'), ('candidates', 'NNS'), ('at', 'IN'), ('a', 'DT'), ('nominating', 'JJ'), ('convention', 'NN')]\n",
      "[('The', 'DT'), ('merits', 'NNS'), ('of', 'IN'), ('open', 'JJ'), ('versus', 'NN'), ('closed', 'VBD'), ('primaries', 'NNS'), ('have', 'VBP'), ('been', 'VBN'), ('widely', 'RB'), ('debated', 'VBN')]\n",
      "[('Proponents', 'NNS'), ('of', 'IN'), ('open', 'JJ'), ('primaries', 'NNS'), ('argue', 'VBP'), ('that', 'IN'), ('voters', 'NNS'), ('should', 'MD'), ('be', 'VB'), ('able', 'JJ'), ('to', 'TO'), ('choose', 'VB'), ('which', 'WDT'), ('primary', 'NN'), ('they', 'PRP'), ('will', 'MD'), ('vote', 'VB'), ('in', 'IN'), ('at', 'IN'), ('each', 'DT'), ('election', 'NN')]\n",
      "[('Open', 'JJ'), ('primaries', 'NNS'), ('allow', 'VBP'), ('participation', 'NN'), ('by', 'IN'), ('independents', 'NNS'), ('unwilling', 'VBG'), ('to', 'TO'), ('declare', 'VB'), ('a', 'DT'), ('party', 'NN'), ('affiliation', 'NN'), ('to', 'TO'), ('vote', 'VB'), ('and', 'CC'), ('prevent', 'VB'), ('intimidation', 'NN'), ('of', 'IN'), ('voters', 'NNS'), ('who', 'WP'), ('wish', 'VBP'), ('to', 'TO'), ('keep', 'VB'), ('their', 'PRP$'), ('affiliation', 'NN'), ('private', 'JJ')]\n",
      "[('Party', 'NNP'), ('organizations', 'NNS'), ('prefer', 'VBP'), ('closed', 'JJ'), ('primaries', 'NNS'), ('because', 'IN'), ('they', 'PRP'), ('promote', 'VBP'), ('party', 'NN'), ('unity', 'NN'), ('and', 'CC'), ('keep', 'VB'), ('those', 'DT'), ('with', 'IN'), ('no', 'DT'), ('allegiance', 'NN'), ('to', 'TO'), ('the', 'DT'), ('party', 'NN'), ('from', 'IN'), ('influencing', 'VBG'), ('its', 'PRP$'), ('choice,', 'NN'), ('as', 'IN'), ('happens', 'NNS'), ('in', 'IN'), ('crossover', 'NN'), ('voting,', 'NN'), ('when', 'WRB'), ('members', 'NNS'), ('of', 'IN'), ('rival', 'JJ'), ('parties', 'NNS'), ('vote', 'VBP'), ('for', 'IN'), ('the', 'DT'), ('weakest', 'JJS'), ('candidate', 'NN'), ('in', 'IN'), ('the', 'DT'), ('oppositions', 'NNS'), ('primary', 'VBP')]\n",
      "[('Several', 'JJ'), ('states', 'NNS'), ('have', 'VBP'), ('adopted', 'VBN'), ('variations,', 'NN'), ('including', 'VBG'), ('the', 'DT'), ('mixed', 'JJ'), ('primary,', 'NN'), ('which', 'WDT'), ('allows', 'VBZ'), ('independents', 'NNS'), ('to', 'TO'), ('vote', 'VB'), ('in', 'IN'), ('either', 'DT'), ('partys', 'JJ'), ('primary', 'NN'), ('but', 'CC'), ('requires', 'VBZ'), ('voters', 'NNS'), ('registered', 'VBD'), ('with', 'IN'), ('a', 'DT'), ('political', 'JJ'), ('party', 'NN'), ('to', 'TO'), ('vote', 'VB'), ('in', 'IN'), ('their', 'PRP$'), ('own', 'JJ'), ('partys', 'NN'), ('primary', 'NN')]\n",
      "[('Following', 'VBG'), ('legal', 'JJ'), ('challenges', 'NNS'), ('(particularly', 'RB'), ('by', 'IN'), ('the', 'DT'), ('Democratic', 'JJ'), ('and', 'CC'), ('Republican', 'NNP'), ('parties),', 'VB'), ('some', 'DT'), ('variations', 'NNS'), ('were', 'VBD'), ('declared', 'VBN'), ('unconstitutional', 'JJ'), ('in', 'IN'), ('the', 'DT'), ('early', 'JJ'), ('21st', 'JJ'), ('century', 'NN')]\n",
      "[('For', 'IN'), ('example,', 'NN'), ('for', 'IN'), ('more', 'JJR'), ('than', 'IN'), ('six', 'CD'), ('decades,', 'VBD'), ('the', 'DT'), ('state', 'NN'), ('of', 'IN'), ('Washington', 'NNP'), ('employed', 'VBD'), ('a', 'DT'), ('blanket', 'NN'), ('primary,', 'NN'), ('which', 'WDT'), ('enabled', 'VBD'), ('voters', 'NNS'), ('to', 'TO'), ('select', 'VB'), ('one', 'CD'), ('candidate', 'NN'), ('per', 'IN'), ('office', 'NN'), ('irrespective', 'NN'), ('of', 'IN'), ('party', 'NN'), ('affiliation,', 'NN'), ('with', 'IN'), ('the', 'DT'), ('top', 'JJ'), ('vote', 'NN'), ('getter', 'NN'), ('from', 'IN'), ('each', 'DT'), ('party', 'NN'), ('advancing', 'VBG'), ('to', 'TO'), ('the', 'DT'), ('general', 'JJ'), ('election', 'NN')]\n",
      "[('In', 'IN'), ('2003', 'CD'), ('the', 'DT'), ('9th', 'CD'), ('Circuit', 'NNP'), ('U', 'NNP')]\n",
      "[('S', 'NN')]\n",
      "[('Court', 'NNP'), ('of', 'IN'), ('Appeals', 'NNP'), ('ruled', 'VBD'), ('that', 'IN'), ('Washingtons', 'NNP'), ('primary', 'NN'), ('was', 'VBD'), ('unconstitutional,', 'JJ'), ('on', 'IN'), ('the', 'DT'), ('grounds', 'NNS'), ('that', 'IN'), ('it', 'PRP'), ('violated', 'VBD'), ('a', 'DT'), ('political', 'JJ'), ('partys', 'NN'), ('First', 'NNP'), ('Amendment', 'NNP'), ('right', 'NN'), ('to', 'TO'), ('freedom', 'VB'), ('of', 'IN'), ('association', 'NN')]\n",
      "[('Washington', 'NNP'), ('subsequently', 'RB'), ('implemented', 'VBD'), ('a', 'DT'), ('modified', 'VBN'), ('blanket', 'NN'), ('system', 'NN'), ('that', 'WDT'), ('was', 'VBD'), ('a', 'DT'), ('nonpartisan', 'JJ'), ('contest', 'NN'), ('in', 'IN'), ('which', 'WDT'), ('voters', 'NNS'), ('could', 'MD'), ('select', 'VB'), ('one', 'CD'), ('candidate', 'NN'), ('per', 'IN'), ('office,', 'NN'), ('with', 'IN'), ('the', 'DT'), ('top', 'JJ'), ('two', 'CD'), ('vote', 'NN'), ('getters', 'NNS'), ('per', 'IN'), ('office', 'NN'), ('irrespective', 'NN'), ('of', 'IN'), ('party', 'NN'), ('affiliation', 'NN'), ('advancing', 'VBG'), ('to', 'TO'), ('the', 'DT'), ('general', 'JJ'), ('election;', 'NN'), ('in', 'IN'), ('2008', 'CD'), ('this', 'DT'), ('“top-two”', 'JJ'), ('system', 'NN'), ('was', 'VBD'), ('declared', 'VBN'), ('constitutional', 'JJ'), ('by', 'IN'), ('the', 'DT'), ('U', 'NNP')]\n",
      "[('S', 'NN')]\n",
      "[('Supreme', 'NNP'), ('Court', 'NNP')]\n",
      "[('In', 'IN'), ('2010', 'CD'), ('voters', 'NNS'), ('in', 'IN'), ('California,', 'NNP'), ('which', 'WDT'), ('had', 'VBD'), ('earlier', 'RBR'), ('also', 'RB'), ('been', 'VBN'), ('forced', 'VBN'), ('to', 'TO'), ('abandon', 'VB'), ('its', 'PRP$'), ('blanket', 'NN'), ('primary,', 'NN'), ('endorsed', 'VBD'), ('a', 'DT'), ('ballot', 'NN'), ('initiative', 'NN'), ('that', 'IN'), ('established', 'VBD'), ('a', 'DT'), ('system', 'NN'), ('similar', 'JJ'), ('to', 'TO'), ('that', 'DT'), ('in', 'IN'), ('Washington', 'NNP')]\n",
      "[('Although', 'IN'), ('the', 'DT'), ('formal', 'JJ'), ('primary', 'NN'), ('system', 'NN'), ('is', 'VBZ'), ('peculiar', 'JJ'), ('to', 'TO'), ('the', 'DT'), ('United', 'NNP'), ('States,', 'NNP'), ('there', 'EX'), ('are', 'VBP'), ('some', 'DT'), ('parallels', 'NNS'), ('in', 'IN'), ('other', 'JJ'), ('countries', 'NNS')]\n",
      "[('For', 'IN'), ('example,', 'PDT'), ('the', 'DT'), ('Australian', 'JJ'), ('Labor', 'NNP'), ('Party', 'NNP'), ('has', 'VBZ'), ('used', 'VBN'), ('a', 'DT'), ('“preselection”', 'JJ'), ('ballot,', 'NN'), ('in', 'IN'), ('which', 'WDT'), ('candidates', 'NNS'), ('in', 'IN'), ('each', 'DT'), ('locality', 'NN'), ('have', 'VBP'), ('been', 'VBN'), ('selected', 'VBN'), ('by', 'IN'), ('party', 'NN'), ('members', 'NNS'), ('in', 'IN'), ('that', 'DT'), ('locality', 'NN'), ('from', 'IN'), ('those', 'DT'), ('offering', 'VBG'), ('themselves', 'PRP'), ('for', 'IN'), ('the', 'DT'), ('preselection', 'NN'), ('vote', 'NN')]\n",
      "[('Some', 'DT'), ('parties', 'NNS'), ('in', 'IN'), ('Israel', 'NNP'), ('have', 'VBP'), ('also', 'RB'), ('used', 'VBN'), ('primaries', 'NNS'), ('to', 'TO'), ('select', 'VB'), ('candidates', 'NNS'), ('for', 'IN'), ('the', 'DT'), ('Knesset', 'NNP')]\n",
      "[]\n"
     ]
    }
   ],
   "source": [
    "rawComment=rawComment.replace(\"\\n\",\" \")\n",
    "rawComment=rawComment.replace(\"\\n\",\" \")\n",
    "lines=rawComment.split(\".\")\n",
    "for line in lines:\n",
    "    #print(line)\n",
    "    posTokens=line.split(\" \")\n",
    "    posTokens=[token for token in posTokens if token !='' and token != ' ']\n",
    "    #print(posTokens)\n",
    "    print(nltk.pos_tag(posTokens))"
   ]
  },
  {
   "cell_type": "code",
   "execution_count": 31,
   "metadata": {
    "collapsed": false
   },
   "outputs": [
    {
     "name": "stdout",
     "output_type": "stream",
     "text": [
      "[('This', 'DT'), ('isnt', 'NN'), ('good', 'JJ')]\n",
      "[('It', 'PRP'), (\"didn't\", 'VBZ'), ('work', 'NN')]\n"
     ]
    }
   ],
   "source": [
    "ad=['This','isnt','good']\n",
    "print(nltk.pos_tag(ad))\n",
    "#ad=['This','isn\\'t','good']\n",
    "ad=['It','didn\\'t','work']\n",
    "print(nltk.pos_tag(ad))\n",
    "\n",
    "#THE APOSTROPHE IN CONTRACTIONS : CONTRACTIONS ARE ALWAYS NON-DICTIONARY WORDS\n",
    "## HARDCODE VALUES FROM http://www.edufind.com/english-grammar/apostrophe/\n",
    "# Quick Check for Names : first Charcater would be in CAPS at least\n",
    "# Cases(For Pronouns hardCode all Combinations, For Proper Nouns i.e. Names we need Rule) :\n",
    "    # Using \"not\": isn't, hasn't, hadn't, didn't, wouldn't, can't :: *nt->*n't [Rules Below]\n",
    "    # Using \"is\" : she's, there's, he's, it's, Mary's, Jim's, Germany's, who's ::*s->*'s\n",
    "    # Using \"am\" : Im->I'm :: HardCoded Pattern : Strict Check so no problem with Names\n",
    "    # Using \"will\" : I'll, you'll, she'll, we'll, they'll: *ll->*'ll\n",
    "    # Using \"would\"\t: I'd, you'd, he'd, we'd, they'd ::: *d ->*'d\n",
    "    # Using \"have\" : I've,you've,we've,they've ::: *ve -> *'ve  ::: No PROB with NOUNS/Names ; Using have with Name is bad\n",
    "    # Using \"\"are\" : you're,they're,we're ::: *re->*'re :::"
   ]
  },
  {
   "cell_type": "code",
   "execution_count": 53,
   "metadata": {
    "collapsed": false
   },
   "outputs": [
    {
     "name": "stdout",
     "output_type": "stream",
     "text": [
      "[('Danyent', 'NN'), ('has', 'VBZ'), ('intelligence', 'NN')]\n",
      "[('Danyent', 'NNP'), ('isnt', 'VBZ'), ('smart', 'JJ')]\n"
     ]
    }
   ],
   "source": [
    "ad=['Danyent','has','intelligence']\n",
    "print(nltk.pos_tag(ad))\n",
    "ad=['Danyent','isnt','smart']\n",
    "print(nltk.pos_tag(ad))\n"
   ]
  },
  {
   "cell_type": "code",
   "execution_count": null,
   "metadata": {
    "collapsed": true
   },
   "outputs": [],
   "source": [
    "###Examples for Handling \"Not\"\n",
    "###Casing for Names will be quick Check\n",
    "#[('Danyent', 'NN'), ('is', 'VBZ'), ('smart', 'JJ')]\n",
    "#[('Danyent', 'NN'), ('has', 'VBZ'), ('intelligence', 'NN')]\n",
    "\n",
    "#[('Danyent', 'NN'), (\"can't\", 'NN'), ('play', 'NN')]\n",
    "#[('Danyent', 'JJ'), (\"isn't\", 'NN'), ('smart', 'NN')]\n",
    "#[('Danyent', 'NNP'), (\"isnt\", 'VBZ'), ('smart', 'JJ')]\n",
    "#[('Danyent', 'NNP'), ('isnt', 'NN'), ('playing', 'NN'), ('well', 'RB')]\n",
    "#[('Danyent', 'NNP'), ('isnt', 'NN'), ('playing', 'NN')]\n",
    "#[('Danyent', 'NNP'), ('cant', 'NN'), ('act', 'NN')]\n",
    "#[('Danyent', 'NNP'), ('hasnt', 'NN'), ('played', 'VBD'), ('since', 'IN'), ('a', 'DT'), ('long', 'JJ'), ('time', 'NN')]\n",
    "#[('Danyent', 'NNP'), (\"wouldn't\", 'NN'), ('act', 'NN')]\n",
    "#[('They', 'PRP'), (\"wouldn't\", 'VBP'), ('act', 'VB')][('They', 'PRP'), ('wouldnt', 'VBP'), ('act', 'NN')]\n",
    "#[('he', 'PRP'), (\"wouldn't\", 'VBZ'), ('act', 'NN')]\n",
    "#[('They', 'PRP'), ('cant', 'VBP'), ('act', 'NN')]\n",
    "#[('He', 'PRP'), (\"can't\", 'VBZ'), ('act', 'NN')][('He', 'PRP'), ('cant', 'VBZ'), ('act', 'NN')]\n",
    "#[('He', 'PRP'), ('hasnt', 'VBZ'), ('played', 'VBN'), ('since', 'IN'), ('a', 'DT'), ('long', 'JJ'), ('time', 'NN')]\n",
    "#[('we', 'PRP'), ('havent', 'VBP'), ('played', 'VBN'), ('since', 'IN'), ('a', 'DT'), ('long', 'JJ'), ('time', 'NN')]"
   ]
  },
  {
   "cell_type": "code",
   "execution_count": 58,
   "metadata": {
    "collapsed": false
   },
   "outputs": [
    {
     "name": "stdout",
     "output_type": "stream",
     "text": [
      "[('Jams', 'NNS'), ('height', 'VBD')]\n",
      "[('Jam', 'NNP'), ('is', 'VBZ'), ('playing', 'VBG')]\n"
     ]
    }
   ],
   "source": [
    "w1=[\"Jams\",\"height\"]\n",
    "w2=[\"Jam\",\"is\",\"playing\"]\n",
    "print(nltk.pos_tag(w1))\n",
    "print(nltk.pos_tag(w2))"
   ]
  },
  {
   "cell_type": "code",
   "execution_count": 64,
   "metadata": {
    "collapsed": false
   },
   "outputs": [
    {
     "name": "stdout",
     "output_type": "stream",
     "text": [
      "(S Jams/NNS ill/JJ)\n"
     ]
    }
   ],
   "source": [
    "grammar = \"NP: {<DT>?<JJ>*<NN>}\"\n",
    "grammar=r\"\"\"NP: {<DT|PP\\$>?<JJ>*<NN>}\n",
    "        NP:{<NN>+}\"\"\"\n",
    "#sentence=[('Jam', 'NNP'), ('is', 'VBZ'), ('ill', 'JJ')]\n",
    "sentence=[('Jams', 'NNS'), ('ill', 'JJ')]\n",
    "#sentence=[('Jams', 'NNS'), ('height', 'VBD')]\n",
    "cp = nltk.RegexpParser(grammar)\n",
    "result = cp.parse(sentence)\n",
    "print(result)"
   ]
  },
  {
   "cell_type": "code",
   "execution_count": null,
   "metadata": {
    "collapsed": true
   },
   "outputs": [],
   "source": [
    "# Using \"not\": isn't, hasn't, hadn't, didn't, don't, doesn't, wouldn't, can't :: *nt->*n't [Rules Below]\n",
    "# Using \"is\" : she's, there's, he's, it's, Mary's, Jim's, Germany's, who's ::*s->*'s\n",
    "# Using \"am\" : Im->I'm :: HardCoded Pattern : Strict Check so no problem with Names\n",
    "# Using \"will\" : I'll, you'll, she'll, we'll, they'll: *ll->*'ll\n",
    "# Using \"would\"\t: I'd, you'd, he'd, we'd, they'd ::: *d ->*'d\n",
    "# Using \"have\" : I've,you've,we've,they've ::: *ve -> *'ve  ::: No PROB with NOUNS/Names ; Using have with Name is bad\n",
    "# Using \"\"are\" : you're,they're,we're ::: *re->*'re :::"
   ]
  },
  {
   "cell_type": "code",
   "execution_count": 71,
   "metadata": {
    "collapsed": false
   },
   "outputs": [
    {
     "name": "stdout",
     "output_type": "stream",
     "text": [
      "[('Rams', 'NNP'), ('laughs', 'VBZ'), ('well', 'RB')]\n",
      "[('Ram', 'NNP'), ('is', 'VBZ'), ('laughs', 'RB'), ('well', 'RB')]\n",
      "[('Indias', 'NNP'), ('population', 'NN'), ('has', 'VBZ'), ('increased', 'VBN')]\n",
      "[('India', 'NNP'), ('is', 'VBZ'), ('population', 'NN'), ('has', 'VBZ'), ('increased', 'VBN')]\n",
      "[('Rams', 'NNP'), ('loves', 'VBZ'), ('singing', 'VBG')]\n",
      "[('Ram', 'NNP'), ('is', 'VBZ'), ('loves', 'NNS'), ('singing', 'VBG')]\n"
     ]
    }
   ],
   "source": [
    "######################HANDLING Noun Words Ending with \"S\" W.R.T. \"IS\" ##############################\n",
    "#Check if NOUN Containig s is followed by : \"is\",\"will\",\"would\",\"has\",\"have\",\"am\",\"are\",CC => Then last s is part of Name RETURN\n",
    "# Check if \"is \" alrady in the given sentence: If yes last 's' part of Noun\n",
    "# If W+1 is last word of this Paragraph : Then Replace s -> 's\n",
    "# Blindly Repace and check : If POS Tags Change Drastically then =>last s is a part of name RETURN\n",
    "    #If POS TAG REMAIN SAME : NEED FURTHER CHECK\n",
    "# If POS(W-1)=POS(W+1) and POS(W+2)!=PREP : Then last s is a part of name\n",
    "# Else: Replace last s is replaced by 's\n",
    "isCase=[[\"Rams\", \"happy\"],[\"Ram\",\"is\", \"happy\"],[\"Adams\",\"happy\"],[\"Adam\",\"is\",\"happy\"],[\"Adams\",\"Crying\"],\n",
    "        [\"Adam\",\"is\",\"Crying\"],[\"Adam\",\"is\",\"illusional\"],[\"Adams\",\"illusional\"],[\"Fals\",\"a\",\"good\",\"dancer\"],\n",
    "        [\"Fal\",\"is\", \"a\",\"good\",\"dancer\"],[\"Rams\",\"typing\"],[\"Ram\",\"is\",\"typing\"],[\"Rams\",\"improvement\",\"is\",\"motivating\"]\n",
    "        ,[\"Rams\",\"improving\"],[\"Ram\",\"is\",\"improving\"]]##MOSTLY THE POS TAG DOESN\"T CHANGE AFTER ADDING 's for s in Names\n",
    "[\"Shanks\",\"coaching\",\"has\",\"improved\"]\n",
    "isRevCase=[[\"Rams\", \"laughs\",\"well\"],[\"Ram\",\"is\",\"laughs\",\"well\"],[\"Indias\",\"population\",\"has\",\"increased\"],\n",
    "           [\"India\",\"is\",\"population\",\"has\",\"increased\"],[\"Rams\",\"loves\",\"singing\"],[\"Ram\",\"is\",\"loves\",\"singing\"]]\n",
    "#for posSent in isCase:\n",
    "    #print(nltk.pos_tag(posSent))\n",
    "for negSent in isRevCase:\n",
    "    print(nltk.pos_tag(negSent))"
   ]
  },
  {
   "cell_type": "code",
   "execution_count": 83,
   "metadata": {
    "collapsed": false
   },
   "outputs": [
    {
     "name": "stdout",
     "output_type": "stream",
     "text": [
      "[('Mackll', 'NNP'), ('buy', 'VBP'), ('stocks', 'NNS')]\n",
      "[('Mack', 'NNP'), ('will', 'MD'), ('buy', 'VB'), ('stocks', 'NNS')]\n",
      "[('Mackll', 'NNP'), ('suffer', 'NN'), ('from', 'IN'), ('fever', 'NN')]\n",
      "[('Mack', 'NNP'), ('will', 'MD'), ('suffer', 'VB'), ('from', 'IN'), ('fever', 'NN')]\n",
      "[('Mackll', 'NNP'), ('suffer', 'VBP'), ('badly', 'RB'), ('from', 'IN'), ('fever', 'NN')]\n",
      "[('Mack', 'NNP'), ('will', 'MD'), ('suffer', 'VB'), ('badly', 'RB'), ('from', 'IN'), ('fever', 'NN')]\n",
      "[('Mackll', 'NNP'), ('beat', 'VBD'), ('the', 'DT'), ('Tyson', 'NNP')]\n",
      "[('Mack', 'NNP'), ('will', 'MD'), ('beat', 'VB'), ('the', 'DT'), ('Tyson', 'NNP')]\n",
      "[('Carbonll', 'NNP'), ('evaporate', 'NN'), ('into', 'IN'), ('the', 'DT'), ('atmosphere', 'NN')]\n",
      "[('Carbon', 'NNP'), ('will', 'MD'), ('evaporate', 'VB'), ('into', 'IN'), ('the', 'DT'), ('atmosphere', 'NN')]\n",
      "[('theyll', 'NN'), ('crack', 'NN'), ('the', 'DT'), ('puzzle', 'NN')]\n",
      "[('they', 'PRP'), ('will', 'MD'), ('crack', 'VB'), ('the', 'DT'), ('puzzle', 'NN')]\n",
      "[('Mackll', 'NNP'), ('dances', 'NNS'), ('well', 'RB')]\n",
      "[('Mack', 'NNP'), ('will', 'MD'), ('dances', 'VB'), ('well', 'RB')]\n",
      "[('Mackll', 'NNP'), ('danced', 'VBD'), ('well', 'RB')]\n",
      "[('Mack', 'NNP'), ('will', 'MD'), ('danced', 'VB'), ('well', 'RB')]\n",
      "[('Mackll', 'NNP'), ('wanted', 'VBD'), ('to', 'TO'), ('live', 'VB'), ('life', 'NN'), ('king', 'VBG'), ('size', 'NN')]\n",
      "[('Mackll', 'NNP'), ('will', 'MD'), ('wanted', 'VBD'), ('to', 'TO'), ('live', 'VB'), ('life', 'NN'), ('king', 'VBG'), ('size', 'NN')]\n",
      "[('Newzll', 'NNP'), ('beats', 'NNS'), ('India', 'NNP'), ('in', 'IN'), ('GDP', 'NNP'), ('measures', 'NNS')]\n",
      "[('Newz', 'NNP'), ('will', 'MD'), ('beats', 'VB'), ('India', 'NNP'), ('in', 'IN'), ('GDP', 'NNP'), ('measures', 'NNS')]\n"
     ]
    }
   ],
   "source": [
    "######################HANDLING Noun Words Ending with 'll' W.R.T. \"Will\" ##############################\n",
    "#Check if NOUN Containig 'll' is followed by : \"is\",\"will\",\"should\",would\",\"has\",\"have\",\"am\",\"are\",CC => Then last s is part of Name\n",
    "## Check if \"will\" alrady in the given sentence: If yes last \"ll\" part of Noun\n",
    "#If W+1 is last word of this Paragraph : Then Replace ll -> 'll\n",
    "# if w+1 is be : Replace ll->'ll\n",
    "# If POS(W+1):SINGULAR (plays) or POS(W+1)is PAST (VBD)/VB-ing then, \"ll\" part of Noun \n",
    "# Else: Replace last ll is replaced by 'll\n",
    "isCase=[[\"Mackll\", \"buy\",\"stocks\"],[\"Mack\",\"will\", \"buy\",\"stocks\"],[\"Mackll\",\"suffer\",\"from\",\"fever\"],\n",
    "        [\"Mack\",\"will\",\"suffer\",\"from\",\"fever\"],[\"Mackll\",\"suffer\",\"badly\",\"from\",\"fever\"],\n",
    "        [\"Mack\",\"will\",\"suffer\",\"badly\",\"from\",\"fever\"],[\"Mackll\",\"beat\",\"the\",\"Tyson\"],[\"Mack\",\"will\",\"beat\",\"the\",\n",
    "        \"Tyson\"],[\"Carbonll\",\"evaporate\",\"into\",\"the\",\"atmosphere\"],[\"Carbon\",\n",
    "        \"will\",\"evaporate\",\"into\",\"the\",\"atmosphere\"],['theyll','crack',\"the\",\"puzzle\"],\n",
    "        ['they','will','crack',\"the\",\"puzzle\"]]\n",
    "##MOSTLY THE POS TAG DOESN\"T CHANGE AFTER ADDING 'll for ll in Names\n",
    "isRevCase=[[\"Mackll\", \"dances\",\"well\"],[\"Mack\",\"will\",\"dances\",\"well\"],[\"Mackll\",\"danced\",\"well\"],[\"Mack\",\"will\",\n",
    "            \"danced\",\"well\"],[\"Mackll\", \"wanted\",\"to\",\"live\",\"life\",\"king\",\"size\"],[\"Mackll\", \"will\",\"wanted\",\"to\",\n",
    "            \"live\",\"life\",\"king\",\"size\"],\n",
    "           [\"Newzll\",\"beats\",\"India\",\"in\",\"GDP\",\"measures\"],[\"Newz\",\"will\",\"beats\",\"India\",\"in\",\"GDP\",\"measures\"]]\n",
    "#           [\"India\",\"is\",\"population\",\"has\",\"increased\"],[\"Rams\",\"loves\",\"singing\"],[\"Ram\",\"is\",\"loves\",\"singing\"]]\n",
    "for posSent in isCase:\n",
    "    print(nltk.pos_tag(posSent))\n",
    "for negSent in isRevCase:\n",
    "    print(nltk.pos_tag(negSent))"
   ]
  },
  {
   "cell_type": "code",
   "execution_count": 84,
   "metadata": {
    "collapsed": true
   },
   "outputs": [],
   "source": [
    "######################HANDLING Noun Words Ending with 'd' W.R.T. \"Would\" ##############################\n",
    "#Check if NOUN Containig 'd' is followed by : \"is\",\"will\",\"should\",would\",\"has\",\"have\",\"am\",\"are\",CC => Then last s is part of Name\n",
    "## Check if \"would\" alrady in the given sentence: If yes last \"ll\" part of Noun\n",
    "#If W+1 is last word of this Paragraph : Then Replace d -> 'd\n",
    "# if w+1 is 'be' : Replace d->'d\n",
    "# If POS(W+1):SINGULAR (plays) or POS(W+1)is PAST (VBD)/VB-ing then, \"ll\" part of Noun \n",
    "# Else: Replace last d is replaced by 'd"
   ]
  },
  {
   "cell_type": "code",
   "execution_count": 85,
   "metadata": {
    "collapsed": true
   },
   "outputs": [],
   "source": [
    "#Ignore Handling Names for Would/Have/Are/Not"
   ]
  },
  {
   "cell_type": "code",
   "execution_count": 88,
   "metadata": {
    "collapsed": false
   },
   "outputs": [
    {
     "name": "stdout",
     "output_type": "stream",
     "text": [
      "[('a', 'DT'), ('ships', 'NN'), ('captain', 'NN'), ('has', 'VBZ'), ('arrived', 'VBN'), ('here', 'RB')]\n",
      "[('Are', 'IN'), ('we', 'PRP'), ('talking', 'VBG'), ('to', 'TO'), ('a', 'DT'), ('ships', 'NNS'), ('captain', 'NN')]\n",
      "[('I', 'PRP'), ('admire', 'VBP'), ('ships', 'NNS'), ('captains', 'NNS')]\n",
      "[('How', 'WRB'), ('does', 'VBZ'), ('it', 'PRP'), ('feel', 'VB'), ('to', 'TO'), ('be', 'VB'), ('a', 'DT'), ('doctors', 'NNS'), ('patient', 'NN')]\n",
      "[('Please', 'NNP'), ('avoid', 'VB'), ('opening', 'VBG'), ('any', 'DT'), ('cars', 'NNS'), ('engine', 'NN')]\n",
      "[('This', 'DT'), ('is', 'VBZ'), ('Rams', 'NNP'), ('hot', 'JJ'), ('sports', 'NNS'), ('car', 'NN')]\n"
     ]
    }
   ],
   "source": [
    "sentsTokens=[\n",
    "    [\"a\",\"ships\",\"captain\",\"has\",\"arrived\",\"here\"],\n",
    "    [\"Are\",\"we\",\"talking\",\"to\",\"a\",\"ships\",\"captain\"],\n",
    "    [\"I\",\"admire\",\"ships\",\"captains\"],\n",
    "    [\"How\",\"does\",\"it\",\"feel\",\"to\",\"be\",\"a\",\"doctors\",\"patient\"],\n",
    "    [\"Please\",\"avoid\",\"opening\",\"any\",\"cars\",\"engine\"],\n",
    "    [\"This\",\"is\",\"Rams\",\"hot\",\"sports\",\"car\"]\n",
    "]\n",
    "for sentTok in sentsTokens:\n",
    "    print(nltk.pos_tag(sentTok))"
   ]
  },
  {
   "cell_type": "code",
   "execution_count": 75,
   "metadata": {
    "collapsed": false
   },
   "outputs": [
    {
     "data": {
      "text/plain": [
       "[('Delhi', 'NNP'), ('will', 'MD'), ('win', 'VB'), ('elections', 'NNS')]"
      ]
     },
     "execution_count": 75,
     "metadata": {},
     "output_type": "execute_result"
    }
   ],
   "source": [
    "toks=[\"Delhi\",\"will\",\"win\",\"elections\"]#Delhi's Capital is XYZ. Delhi is Capital of India\n",
    "#toks=[\"Pleasure\",\"is\",\"extreme\",\"happiness\"]\n",
    "nltk.pos_tag(toks)"
   ]
  },
  {
   "cell_type": "code",
   "execution_count": null,
   "metadata": {
    "collapsed": true
   },
   "outputs": [],
   "source": []
  }
 ],
 "metadata": {
  "kernelspec": {
   "display_name": "Python 3",
   "language": "python",
   "name": "python3"
  },
  "language_info": {
   "codemirror_mode": {
    "name": "ipython",
    "version": 3
   },
   "file_extension": ".py",
   "mimetype": "text/x-python",
   "name": "python",
   "nbconvert_exporter": "python",
   "pygments_lexer": "ipython3",
   "version": "3.5.1"
  }
 },
 "nbformat": 4,
 "nbformat_minor": 0
}
